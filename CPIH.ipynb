{
 "cells": [
  {
   "cell_type": "code",
   "execution_count": 1,
   "id": "2824bec3",
   "metadata": {},
   "outputs": [],
   "source": [
    "import numpy as np\n",
    "import matplotlib.pyplot as plt\n",
    "from shapely import Polygon,Point\n",
    "from scipy.spatial import ConvexHull\n",
    "from itertools import combinations\n",
    "from shapely.ops import unary_union"
   ]
  },
  {
   "cell_type": "code",
   "execution_count": 97,
   "id": "febaba31",
   "metadata": {},
   "outputs": [],
   "source": [
    "imp = .5\n",
    "X = np.array([(-3,-1), (-2, 3),(0.5 ,-4),(1.5,6),(3.2,2)])\n",
    "Bx= np.zeros((len(X),4,2));\n",
    "for i in range(len(X)):\n",
    "    Bx[i][0][0] = X[i][0]-imp;\n",
    "    Bx[i][0][1] = X[i][1]+imp;\n",
    "    Bx[i][1][0] = X[i][0]+imp;\n",
    "    Bx[i][1][1] = X[i][1]+imp;\n",
    "    Bx[i][2][0] = X[i][0]+imp;\n",
    "    Bx[i][2][1] = X[i][1]-imp;\n",
    "    Bx[i][3][0] = X[i][0]-imp;\n",
    "    Bx[i][3][1] = X[i][1]-imp;\n",
    "\n"
   ]
  },
  {
   "cell_type": "code",
   "execution_count": 77,
   "id": "92c8d8c9",
   "metadata": {},
   "outputs": [
    {
     "name": "stdout",
     "output_type": "stream",
     "text": [
      "-2.0\n"
     ]
    }
   ],
   "source": [
    "print(X[1,0])"
   ]
  },
  {
   "cell_type": "code",
   "execution_count": 80,
   "id": "8d825b3f",
   "metadata": {},
   "outputs": [],
   "source": [
    "def getPotRegions(X):\n",
    "    Bx= np.zeros((len(X),4,2));\n",
    "    for i in range(len(X)):\n",
    "        Bx[i,0,:]= [X[i][0]-imp, X[i][1]+imp]\n",
    "        Bx[i,1,:]= [X[i][0]+imp, X[i][1]+imp]\n",
    "        Bx[i,2,:]= [X[i][0]+imp, X[i][1]-imp]\n",
    "        Bx[i,3,:]= [X[i][0]-imp, X[i][1]-imp]\n",
    "    return(Bx);"
   ]
  },
  {
   "cell_type": "code",
   "execution_count": 4,
   "id": "5d425955",
   "metadata": {},
   "outputs": [],
   "source": [
    "def plothull(X):\n",
    "    hull = ConvexHull(X);\n",
    "    hullx = np.append(X[hull.vertices,0],X[hull.vertices[0],0]);\n",
    "    hully = np.append(X[hull.vertices,1],X[hull.vertices[0],1]);\n",
    "    plt.plot(hullx,hully);\n",
    "    "
   ]
  },
  {
   "cell_type": "code",
   "execution_count": 5,
   "id": "9d76cfb6",
   "metadata": {},
   "outputs": [],
   "source": [
    "\n",
    "comb3 = list(combinations(np.arange(len(X)),3))\n",
    "safe = [];\n",
    "dp1 =[]\n",
    "for i in range(len(comb3)):\n",
    "    comb2 = list(combinations(comb3[i][:],2))\n",
    "    b1 = int(comb3[i][0]);\n",
    "    b2 = int(comb3[i][1]);\n",
    "    b3 = int(comb3[i][2]);\n",
    "    dp1 = np.vstack((Bx[b1,:,:],Bx[b2,:,:],Bx[b3,:,:]));\n",
    "    idx = ConvexHull(dp1);\n",
    "    dp1 = Polygon(dp1[idx.vertices,:]);\n",
    "    dp2 = Polygon();\n",
    "    for j in range(len(comb2)):\n",
    "        a1 = comb2[j][0];\n",
    "        a2 = comb2[j][1];\n",
    "        temp= np.vstack((Bx[a1,:,:],Bx[a2,:,:]));\n",
    "        idx = ConvexHull(temp);\n",
    "        temp =  Polygon(temp[idx.vertices,:]);\n",
    "        dp2 = unary_union([dp2,temp])\n",
    "        diff = dp1.difference(dp2);\n",
    "        x,y = np.array(diff.exterior.xy)\n",
    "        safe.append([x,y])"
   ]
  },
  {
   "cell_type": "code",
   "execution_count": 51,
   "id": "03ff0867",
   "metadata": {},
   "outputs": [],
   "source": [
    "def calcsafepoint(n,Bx):\n",
    "    n = np.arange(n);\n",
    "    comb3 = list(combinations(n,3));\n",
    "    safeX = [];\n",
    "    safeY =[];\n",
    "    dp1 =[]\n",
    "    for i in range(len(comb3)):\n",
    "        comb2 = list(combinations(comb3[i][:],2))\n",
    "        b1 = int(comb3[i][0]);\n",
    "        b2 = int(comb3[i][1]);\n",
    "        b3 = int(comb3[i][2]);\n",
    "        dp1 = np.vstack((Bx[b1,:,:],Bx[b2,:,:],Bx[b3,:,:]));\n",
    "        idx = ConvexHull(dp1);\n",
    "        dp1 = Polygon(dp1[idx.vertices,:]);\n",
    "        dp2 = Polygon();\n",
    "        for j in range(len(comb2)):\n",
    "            a1 = comb2[j][0];\n",
    "            a2 = comb2[j][1];\n",
    "            temp= np.vstack((Bx[a1,:,:],Bx[a2,:,:]));\n",
    "            idx = ConvexHull(temp);\n",
    "            temp =  Polygon(temp[idx.vertices,:]);\n",
    "            dp2 = unary_union([dp2,temp])\n",
    "        diff = dp1.difference(dp2);\n",
    "        x,y = np.array(diff.exterior.xy)\n",
    "        safeX.append(x);\n",
    "        safeY.append(y);\n",
    "    return [safeX,safeY];"
   ]
  },
  {
   "cell_type": "code",
   "execution_count": 52,
   "id": "0c1cd72e",
   "metadata": {},
   "outputs": [],
   "source": [
    "n = len(X);\n",
    "safeX,safeY = calcsafepoint(n,Bx)"
   ]
  },
  {
   "cell_type": "code",
   "execution_count": 75,
   "id": "a6c902b6",
   "metadata": {},
   "outputs": [],
   "source": [
    "def meansafepoint(safeX,safeY):\n",
    "    mx =0;\n",
    "    my = 0;\n",
    "    count = 0;\n",
    "    for i in range(len(safeX)):\n",
    "        if len(safeX[i] != 0):\n",
    "            mx += np.mean(safeX[i]);\n",
    "            my += np.mean(safeY[i]);\n",
    "            count+=1;\n",
    "    mx = mx/count;\n",
    "    my = my/count;\n",
    "    return mx,my;\n",
    "\n"
   ]
  },
  {
   "cell_type": "code",
   "execution_count": 73,
   "id": "3c089227",
   "metadata": {},
   "outputs": [
    {
     "name": "stdout",
     "output_type": "stream",
     "text": [
      "0\n"
     ]
    }
   ],
   "source": []
  },
  {
   "cell_type": "code",
   "execution_count": 91,
   "id": "2eb619a5",
   "metadata": {},
   "outputs": [],
   "source": [
    "def plotagents(Bx,safeX,safeY,fig,ax):\n",
    "    fig.clear()\n",
    "    for i in range(len(safeX)):\n",
    "        x = safeX[i][:];\n",
    "        y = safeY[i][:];\n",
    "        ax.fill(x,y);\n",
    "    for j in range(n):\n",
    "        x = Bx[j,:,0];\n",
    "        y = Bx[j,:,1];\n",
    "        ax.scatter(x,y);\n",
    "    fig.canvas.draw()\n",
    "    fig.canvas.flush_events();\n",
    "    plt.show();"
   ]
  },
  {
   "cell_type": "code",
   "execution_count": 98,
   "id": "a32cdaf5",
   "metadata": {},
   "outputs": [
    {
     "data": {
      "text/plain": [
       "<Figure size 400x500 with 0 Axes>"
      ]
     },
     "metadata": {},
     "output_type": "display_data"
    },
    {
     "ename": "ZeroDivisionError",
     "evalue": "division by zero",
     "output_type": "error",
     "traceback": [
      "\u001b[1;31m---------------------------------------------------------------------------\u001b[0m",
      "\u001b[1;31mZeroDivisionError\u001b[0m                         Traceback (most recent call last)",
      "Cell \u001b[1;32mIn[98], line 10\u001b[0m\n\u001b[0;32m      8\u001b[0m     Bx \u001b[38;5;241m=\u001b[39m getPotRegions(X);\n\u001b[0;32m      9\u001b[0m     safeX,safeY \u001b[38;5;241m=\u001b[39m calcsafepoint(n,Bx);\n\u001b[1;32m---> 10\u001b[0m     target[i] \u001b[38;5;241m=\u001b[39m meansafepoint(safeX,safeY);\n\u001b[0;32m     12\u001b[0m \u001b[38;5;28;01mfor\u001b[39;00m i \u001b[38;5;129;01min\u001b[39;00m \u001b[38;5;28mrange\u001b[39m(n):\n\u001b[0;32m     13\u001b[0m     X[i]\u001b[38;5;241m=\u001b[39m X[i]\u001b[38;5;241m+\u001b[39mdx\u001b[38;5;241m*\u001b[39m(target[i]\u001b[38;5;241m-\u001b[39mX[i]);\n",
      "Cell \u001b[1;32mIn[75], line 10\u001b[0m, in \u001b[0;36mmeansafepoint\u001b[1;34m(safeX, safeY)\u001b[0m\n\u001b[0;32m      8\u001b[0m         my \u001b[38;5;241m+\u001b[39m\u001b[38;5;241m=\u001b[39m np\u001b[38;5;241m.\u001b[39mmean(safeY[i]);\n\u001b[0;32m      9\u001b[0m         count\u001b[38;5;241m+\u001b[39m\u001b[38;5;241m=\u001b[39m\u001b[38;5;241m1\u001b[39m;\n\u001b[1;32m---> 10\u001b[0m mx \u001b[38;5;241m=\u001b[39m mx\u001b[38;5;241m/\u001b[39mcount;\n\u001b[0;32m     11\u001b[0m my \u001b[38;5;241m=\u001b[39m my\u001b[38;5;241m/\u001b[39mcount;\n\u001b[0;32m     12\u001b[0m \u001b[38;5;28;01mreturn\u001b[39;00m mx,my\n",
      "\u001b[1;31mZeroDivisionError\u001b[0m: division by zero"
     ]
    }
   ],
   "source": [
    "fig,ax = plt.subplots(figsize=(4,5));\n",
    "plt.ion();\n",
    "for t in range(200):\n",
    "    dx = .01;\n",
    "    n = len(X);\n",
    "    target = np.zeros((n,2));\n",
    "    for i in range(n):\n",
    "        Bx = getPotRegions(X);\n",
    "        safeX,safeY = calcsafepoint(n,Bx);\n",
    "        target[i] = meansafepoint(safeX,safeY);\n",
    "        \n",
    "    for i in range(n):\n",
    "        X[i]= X[i]+dx*(target[i]-X[i]);\n",
    "    plotagents(Bx,safeX,safeY,fig,ax);\n",
    "    \n",
    "        "
   ]
  },
  {
   "cell_type": "code",
   "execution_count": null,
   "id": "11beb798",
   "metadata": {},
   "outputs": [],
   "source": []
  },
  {
   "cell_type": "code",
   "execution_count": null,
   "id": "34250e73",
   "metadata": {},
   "outputs": [],
   "source": []
  }
 ],
 "metadata": {
  "kernelspec": {
   "display_name": "Python 3 (ipykernel)",
   "language": "python",
   "name": "python3"
  },
  "language_info": {
   "codemirror_mode": {
    "name": "ipython",
    "version": 3
   },
   "file_extension": ".py",
   "mimetype": "text/x-python",
   "name": "python",
   "nbconvert_exporter": "python",
   "pygments_lexer": "ipython3",
   "version": "3.11.5"
  }
 },
 "nbformat": 4,
 "nbformat_minor": 5
}

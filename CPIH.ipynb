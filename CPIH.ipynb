{
 "cells": [
  {
   "cell_type": "code",
   "execution_count": 1,
   "id": "2824bec3",
   "metadata": {},
   "outputs": [],
   "source": [
    "import numpy as np\n",
    "import numpy.matlib\n",
    "import matplotlib.pyplot as plt\n",
    "from shapely import Polygon,Point,MultiPoint,LineString\n",
    "from scipy.spatial import ConvexHull\n",
    "from itertools import combinations\n",
    "from shapely.ops import unary_union\n",
    "from IPython.display import display, clear_output\n",
    "from matplotlib import animation"
   ]
  },
  {
   "cell_type": "code",
   "execution_count": 7,
   "id": "febaba31",
   "metadata": {},
   "outputs": [],
   "source": [
    "\n",
    "    imp = .5\n",
    "    X = np.array([(-3,-1), (-2, 3),(0.5 ,-4),(1.5,6),(3.2,2)])\n",
    "    Bx= np.zeros((len(X),4,2));\n",
    "    for i in range(len(X)):\n",
    "        Bx[i][0][0] = X[i][0]-imp;\n",
    "        Bx[i][0][1] = X[i][1]+imp;\n",
    "        Bx[i][1][0] = X[i][0]+imp;\n",
    "        Bx[i][1][1] = X[i][1]+imp;\n",
    "        Bx[i][2][0] = X[i][0]+imp;\n",
    "        Bx[i][2][1] = X[i][1]-imp;\n",
    "        Bx[i][3][0] = X[i][0]-imp;\n",
    "        Bx[i][3][1] = X[i][1]-imp;\n",
    "\n",
    "\n"
   ]
  },
  {
   "cell_type": "code",
   "execution_count": 77,
   "id": "92c8d8c9",
   "metadata": {},
   "outputs": [
    {
     "name": "stdout",
     "output_type": "stream",
     "text": [
      "-2.0\n"
     ]
    }
   ],
   "source": [
    "print(X[1,0])"
   ]
  },
  {
   "cell_type": "code",
   "execution_count": 2,
   "id": "8d825b3f",
   "metadata": {},
   "outputs": [],
   "source": [
    "def getPotRegions(X,imp):\n",
    "    Bx= np.zeros((len(X),4,2));\n",
    "    for i in range(len(X)):\n",
    "        Bx[i,0,:]= [X[i][0]-imp, X[i][1]+imp]\n",
    "        Bx[i,1,:]= [X[i][0]+imp, X[i][1]+imp]\n",
    "        Bx[i,2,:]= [X[i][0]+imp, X[i][1]-imp]\n",
    "        Bx[i,3,:]= [X[i][0]-imp, X[i][1]-imp]\n",
    "    return(Bx);"
   ]
  },
  {
   "cell_type": "code",
   "execution_count": 3,
   "id": "eb1d06bc",
   "metadata": {},
   "outputs": [],
   "source": [
    "def getPotRegions_var(X,imp):\n",
    "    Bx= np.zeros((len(X),4,2));\n",
    "    for i in range(len(X)):\n",
    "        Bx[i,0,:]= [X[i][0]-imp[i], X[i][1]+imp[i]]\n",
    "        Bx[i,1,:]= [X[i][0]+imp[i], X[i][1]+imp[i]]\n",
    "        Bx[i,2,:]= [X[i][0]+imp[i], X[i][1]-imp[i]]\n",
    "        Bx[i,3,:]= [X[i][0]-imp[i], X[i][1]-imp[i]]\n",
    "    return(Bx);"
   ]
  },
  {
   "cell_type": "code",
   "execution_count": 2,
   "id": "5d425955",
   "metadata": {},
   "outputs": [],
   "source": [
    "def plothull(X):\n",
    "    hull = ConvexHull(X);\n",
    "    hullx = np.append(X[hull.vertices,0],X[hull.vertices[0],0]);\n",
    "    hully = np.append(X[hull.vertices,1],X[hull.vertices[0],1]);\n",
    "    plt.plot(hullx,hully);\n",
    "    "
   ]
  },
  {
   "cell_type": "code",
   "execution_count": 4,
   "id": "03ff0867",
   "metadata": {},
   "outputs": [],
   "source": [
    "def calcsafepoint(n,Bx):\n",
    "    n = np.arange(n);\n",
    "    comb3 = list(combinations(n,3));\n",
    "    safeX = [];\n",
    "    safeY =[];\n",
    "    dp1 =[]\n",
    "    for i in range(len(comb3)):\n",
    "        comb2 = list(combinations(comb3[i][:],2))\n",
    "        b1 = int(comb3[i][0]);\n",
    "        b2 = int(comb3[i][1]);\n",
    "        b3 = int(comb3[i][2]);\n",
    "        dp1 = np.vstack((Bx[b1,:,:],Bx[b2,:,:],Bx[b3,:,:]));\n",
    "        idx = ConvexHull(dp1);\n",
    "        dp1 = Polygon(dp1[idx.vertices,:]);\n",
    "        dp2 = Polygon();\n",
    "        for j in range(len(comb2)):\n",
    "            a1 = comb2[j][0];\n",
    "            a2 = comb2[j][1];\n",
    "            temp= np.vstack((Bx[a1,:,:],Bx[a2,:,:]));\n",
    "            idx = ConvexHull(temp);\n",
    "            temp =  Polygon(temp[idx.vertices,:]);\n",
    "            dp2 = unary_union([dp2,temp])\n",
    "        diff = dp1.difference(dp2);\n",
    "        x,y = np.array(diff.exterior.xy)\n",
    "        safeX.append(x);\n",
    "        safeY.append(y);\n",
    "    return [safeX,safeY];"
   ]
  },
  {
   "cell_type": "code",
   "execution_count": 68,
   "id": "78fc03db",
   "metadata": {},
   "outputs": [],
   "source": [
    "def CPIH_Safepoint(n,Bx):\n",
    "    k = int(np.floor(2/3*n)+1);\n",
    "    n = np.arange(n);\n",
    "\n",
    "    combk = list(combinations(n,k));\n",
    "    safeX = [];\n",
    "    safeY =[];\n",
    "    first= True;\n",
    "    CPIH= Polygon();\n",
    "    #testing\n",
    "   \n",
    "    for C in combk:\n",
    "        comb3 = list(combinations(C,3));\n",
    "        dp1 =[];\n",
    "        Chull = Polygon();\n",
    "        for i in range(len(comb3)):\n",
    "            comb2 = list(combinations(comb3[i][:],2))\n",
    "            b1 = int(comb3[i][0]);\n",
    "            b2 = int(comb3[i][1]);\n",
    "            b3 = int(comb3[i][2]);\n",
    "            dp1 = np.vstack((Bx[b1,:,:],Bx[b2,:,:],Bx[b3,:,:]));\n",
    "            idx = ConvexHull(dp1);\n",
    "            dp1 = Polygon(dp1[idx.vertices,:]);\n",
    "            dp2 = Polygon();\n",
    "            for j in range(len(comb2)):\n",
    "                a1 = comb2[j][0];\n",
    "                a2 = comb2[j][1];\n",
    "                temp= np.vstack((Bx[a1,:,:],Bx[a2,:,:]));\n",
    "                idx = ConvexHull(temp);\n",
    "                temp =  Polygon(temp[idx.vertices,:]);\n",
    "                dp2 = unary_union([dp2,temp])\n",
    "            diff = dp1.difference(dp2);\n",
    "            Chull= unary_union([Chull,diff]);\n",
    "\n",
    "            \n",
    "        if (first and not Chull.is_empty):\n",
    "            CPIH = Polygon(Chull.convex_hull);\n",
    "          \n",
    "        else:\n",
    "            #NEW \n",
    "            if not Chull.is_empty:\n",
    "                Chull = Polygon(Chull.convex_hull);\n",
    "            #ENDNEW\n",
    "            CPIH = CPIH.intersection(Chull);\n",
    "            if not CPIH.geom_type == 'Polygon' and not CPIH.is_empty:\n",
    "                \n",
    "                for member in CPIH.geoms:\n",
    "                    if member.geom_type == 'Polygon':\n",
    "                        CPIH = member;\n",
    "                       \n",
    "            \n",
    "            if CPIH.is_empty:\n",
    "                return [0,0];\n",
    "                break;\n",
    "        first = False;\n",
    "    safeX,safeY = np.array(CPIH.exterior.xy)\n",
    "        #safeX.append(x);\n",
    "        #safeY.append(y);\n",
    "    return [safeX,safeY];\n",
    "    #return CPIH"
   ]
  },
  {
   "cell_type": "code",
   "execution_count": 5,
   "id": "d026de8c",
   "metadata": {},
   "outputs": [],
   "source": [
    "def maintDist(X,agent,imp):\n",
    "    delta = 2.155*2*imp;\n",
    "    dx = 0;\n",
    "    for i in range(len(X)):\n",
    "        if agent != i and i != len(X)-1:\n",
    "            norm = np.linalg.norm(X[i]-X[agent]);\n",
    "            dx+=  ((norm-delta)/norm)*(X[i]-X[agent]);\n",
    "    return np.array(dx);"
   ]
  },
  {
   "cell_type": "code",
   "execution_count": 6,
   "id": "47db9bde",
   "metadata": {},
   "outputs": [],
   "source": [
    "def maxDist(Xi,safeX,safeY):\n",
    "    max_dist = 0;\n",
    "    max_indx = [];\n",
    "    for i in range(len(safeX)):\n",
    "        norm = np.linalg.norm(Xi-[safeX[i],safeY[i]]);\n",
    "        if norm> max_dist:\n",
    "            max_dist = norm;\n",
    "            max_indx = i;\n",
    "    return [safeX[max_indx],safeY[max_indx]],max_dist;"
   ]
  },
  {
   "cell_type": "code",
   "execution_count": 7,
   "id": "a6c902b6",
   "metadata": {},
   "outputs": [],
   "source": [
    "def meansafepoint(safeX,safeY):\n",
    "    mx =0;\n",
    "    my = 0;\n",
    "    count = 0;\n",
    "    for i in range(len(safeX)):\n",
    "        if (len(safeX[i]) != 0):\n",
    "            mx += np.mean(safeX[i]);\n",
    "            my += np.mean(safeY[i]);\n",
    "            count+=1;\n",
    "    mx = mx/count;\n",
    "    my = my/count;\n",
    "    return mx,my;\n",
    "\n"
   ]
  },
  {
   "cell_type": "code",
   "execution_count": 29,
   "id": "e4a02b4c",
   "metadata": {},
   "outputs": [
    {
     "data": {
      "text/plain": [
       "[<matplotlib.patches.Polygon at 0x20385a840d0>]"
      ]
     },
     "execution_count": 29,
     "metadata": {},
     "output_type": "execute_result"
    },
    {
     "data": {
      "image/png": "[encoded data removed]",
      "text/plain": [
       "<Figure size 640x480 with 1 Axes>"
      ]
     },
     "metadata": {},
     "output_type": "display_data"
    }
   ],
   "source": [
    "X = np.array([(-3,-1), (-2, 3),(0.5 ,-4)]);\n",
    "imp = .25;\n",
    "Bx = getPotRegions(X,imp);\n",
    "safeX,safeY= calcsafepoint(3,Bx);\n",
    "fig, ax = plt.subplots();\n",
    "for i in range(3):\n",
    "    xb = Bx[i][:,0];\n",
    "    yb = Bx[i][:,1];\n",
    "    ax.fill(xb,yb);\n",
    "    x = X[i][0];\n",
    "    y = X[i][1];\n",
    "    ax.scatter(x,y);\n",
    "ax.fill(safeX[0],safeY[0])"
   ]
  },
  {
   "cell_type": "code",
   "execution_count": 22,
   "id": "30b02fe0",
   "metadata": {},
   "outputs": [],
   "source": [
    "def getAllHulls(X,n,imp1,imp2):\n",
    "        safepoints = [];\n",
    "        x = X[n];\n",
    "        X[n] = x+[imp1,0];\n",
    "        Bx = getPotRegions(X,imp2);\n",
    "        safeX,safeY= calcsafepoint(3,Bx);\n",
    "        safepoints.append([np.mean(safeX[0]),np.mean(safeY[0])]);\n",
    "        X[n] = x+[-imp1,0];\n",
    "        Bx = getPotRegions(X,imp2);\n",
    "        safeX,safeY= calcsafepoint(3,Bx);\n",
    "        safepoints.append([np.mean(safeX[0]),np.mean(safeY[0])]);\n",
    "        X[n] = x+[0, imp1];\n",
    "        Bx = getPotRegions(X,imp2);\n",
    "        safeX,safeY= calcsafepoint(3,Bx);\n",
    "        safepoints.append([np.mean(safeX[0]),np.mean(safeY[0])]);        \n",
    "        X[n] = x+[0,-imp1];\n",
    "        Bx = getPotRegions(X,imp2);\n",
    "        safeX,safeY= calcsafepoint(3,Bx);\n",
    "        safepoints.append([np.mean(safeX[0]),np.mean(safeY[0])]);        \n",
    "        X[n] = x+[imp1,imp1];\n",
    "        Bx = getPotRegions(X,imp2);\n",
    "        safeX,safeY= calcsafepoint(3,Bx);\n",
    "        safepoints.append([np.mean(safeX[0]),np.mean(safeY[0])]);        \n",
    "        X[n] = x+[imp1,-imp1];\n",
    "        Bx = getPotRegions(X,imp2);\n",
    "        safeX,safeY= calcsafepoint(3,Bx);\n",
    "        safepoints.append([np.mean(safeX[0]),np.mean(safeY[0])]);        \n",
    "        X[n] = x+[-imp1,imp1];\n",
    "        Bx = getPotRegions(X,imp2);\n",
    "        safeX,safeY= calcsafepoint(3,Bx);\n",
    "        safepoints.append([np.mean(safeX[0]),np.mean(safeY[0])]);        \n",
    "        X[n] = x+[-imp1,-imp1];\n",
    "        Bx = getPotRegions(X,imp2);\n",
    "        safeX,safeY= calcsafepoint(3,Bx);\n",
    "        safepoints.append([np.mean(safeX[0]),np.mean(safeY[0])]);\n",
    "        X[n] = x;\n",
    "        return safepoints;\n",
    "    "
   ]
  },
  {
   "cell_type": "code",
   "execution_count": 10,
   "id": "7f5a257c",
   "metadata": {},
   "outputs": [
    {
     "data": {
      "image/png": "[encoded data removed]",
      "text/plain": [
       "<Figure size 640x480 with 1 Axes>"
      ]
     },
     "metadata": {},
     "output_type": "display_data"
    }
   ],
   "source": [
    "ball = getAllHulls(X[0],.5,.25);\n",
    "fig, ax = plt.subplots();\n",
    "for i in range(5):\n",
    "    xb = ball[i][0][:,0];\n",
    "    yb = ball[i][0][:,1];\n",
    "    ax.fill(xb,yb);\n",
    "    \n"
   ]
  },
  {
   "cell_type": "code",
   "execution_count": 51,
   "id": "448c79fa",
   "metadata": {},
   "outputs": [
    {
     "name": "stdout",
     "output_type": "stream",
     "text": [
      "[-4. -1.]\n",
      "[-4.  -1.5]  temp2\n",
      "[-4. -1.]  temp2\n",
      "[-4.  -0.5]  temp2\n",
      "[-3.5 -1. ]\n",
      "[-3.5 -1.5]  temp2\n",
      "[-3.5 -1. ]  temp2\n",
      "[-3.5 -0.5]  temp2\n",
      "[-3. -1.]\n",
      "[-3.  -1.5]  temp2\n",
      "[-3. -1.]  temp2\n",
      "[-3.  -0.5]  temp2\n",
      "[-2.5  3. ]\n",
      "[-2.5  2.5]  temp2\n",
      "[-2.5  3. ]  temp2\n",
      "[-2.5  3.5]  temp2\n",
      "[-2.  3.]\n",
      "[-2.   2.5]  temp2\n",
      "[-2.  3.]  temp2\n",
      "[-2.   3.5]  temp2\n",
      "[-1.5  3. ]\n",
      "[-1.5  2.5]  temp2\n",
      "[-1.5  3. ]  temp2\n",
      "[-1.5  3.5]  temp2\n",
      "[ 0. -4.]\n",
      "[ 0.  -4.5]  temp2\n",
      "[ 0. -4.]  temp2\n",
      "[ 0.  -3.5]  temp2\n",
      "[ 0.5 -4. ]\n",
      "[ 0.5 -4.5]  temp2\n",
      "[ 0.5 -4. ]  temp2\n",
      "[ 0.5 -3.5]  temp2\n",
      "[ 1. -4.]\n",
      "[ 1.  -4.5]  temp2\n",
      "[ 1. -4.]  temp2\n",
      "[ 1.  -3.5]  temp2\n"
     ]
    }
   ],
   "source": [
    "Xall = [[],[],[]];\n",
    "for i in range(3):\n",
    "    for m in range(-1,2):\n",
    "        temp = X[i]+[m*2*imp,0];\n",
    "        print(temp);\n",
    "        for n in range(-1,2):\n",
    "            temp2 = temp+[0,n*2*imp];\n",
    "            print(temp2,' temp2');\n",
    "            Xall[i].append(temp2);\n"
   ]
  },
  {
   "cell_type": "code",
   "execution_count": 64,
   "id": "77d971e8",
   "metadata": {},
   "outputs": [
    {
     "name": "stdout",
     "output_type": "stream",
     "text": [
      "[-1.8963414634146343, -0.14024390243902435]\n"
     ]
    }
   ],
   "source": [
    "Bx = getPotRegions(X,imp2);\n",
    "safeX,safeY = calcsafepoint(3,Bx);\n",
    "safe = [np.mean(safeX),np.mean(safeY)];\n",
    "print(safe)"
   ]
  },
  {
   "cell_type": "code",
   "execution_count": 65,
   "id": "a03fdec1",
   "metadata": {},
   "outputs": [
    {
     "name": "stdout",
     "output_type": "stream",
     "text": [
      "[0.7071067811865476, 0.6286309039379262, 0.552208829699534, 0.59249053262459, 0.5086207451877202, 0.4273782845577752, 0.49129589651001454, 0.401023748639361, 0.31287384905157684, 0.5816637738363826, 0.5164096025404598, 0.4609606800040052, 0.45334302655945835, 0.38521585984740236, 0.3322068676359618, 0.33494616036474023, 0.26161779366704824, 0.21215358580179616, 0.48963053950629354, 0.4512352716750039, 0.43303664254624485, 0.3573675958877609, 0.3290118694393938, 0.33221773145445305, 0.2331937957642883, 0.22346657504612455, 0.2611297913344972, 0.5613822357594512, 0.4668899767950281, 0.3707096431174907, 0.47463200620559237, 0.3743922300733842, 0.2707682827356129, 0.41751585769522875, 0.3174587535917143, 0.2162672603078337, 0.4002511492651862, 0.3125421043236482, 0.23223952136839526, 0.29427398809229477, 0.19491992675550293, 0.09898897169962974, 0.2284129696042473, 0.12878161830344984, 0.05139274271580659, 0.26447754167990656, 0.20906921887448, 0.19546041105969605, 0.12929393787635543, 0.08012204402860564, 0.13593478770830372, 0.04500933239699033, 0.07944602040051485, 0.18478520562227363, 0.5143508039098821, 0.4159219086907576, 0.31629273179356576, 0.4885224429897839, 0.3988067860302467, 0.3156981452091009, 0.5007188135954602, 0.42739667442053014, 0.36893225035764493, 0.33120002812768, 0.23274016763831115, 0.1371198583521677, 0.31634758705669663, 0.2412418158808163, 0.19526911058345764, 0.35879885048597027, 0.3158265821509872, 0.306326853891777, 0.14880840790035163, 0.06074182964969834, 0.08248447296785777, 0.18022310990677887, 0.17201823637812044, 0.22352163767240874, 0.2838644970601892, 0.3034386754258592, 0.3579149986733796, 0.6000245083744151, 0.5497092570012282, 0.5078587633628762, 0.4838724615606242, 0.4323640948880473, 0.39349226231146955, 0.37356214535278476, 0.3202557048686286, 0.2860835308110525, 0.5262290371413189, 0.5, 0.4894227619098559, 0.40816336105182754, 0.39038448329807607, 0.39512387034993607, 0.2967281029983858, 0.2927408290957452, 0.3199683404424162, 0.5051562949590684, 0.5117714153466763, 0.536348679938528, 0.4062761338083184, 0.4320565855049601, 0.4782670046989072, 0.3258330410894653, 0.37592781444180934, 0.44494211610944734, 0.38663323718545367, 0.31381119924022793, 0.2518732621969013, 0.28254501815686817, 0.19866098152892647, 0.12836953870306037, 0.20463949395968725, 0.10843965462692642, 0.011558392664118922, 0.2752700484683176, 0.24013880223327436, 0.24007272809598362, 0.1490785698485947, 0.12868997793315673, 0.1743945078789644, 0.02903837604667918, 0.08289201513836575, 0.18309550150407616, 0.25501201404085944, 0.2858231707317071, 0.3440367015636184, 0.17735871549339854, 0.25011071192784584, 0.3392917157907144, 0.1721352888349912, 0.27202083466322224, 0.3753924835992176, 0.29245531381506756, 0.19736931527031037, 0.10313175858325806, 0.2778609386960004, 0.20365014404090317, 0.1592691356359155, 0.31672308430081925, 0.27390808586147575, 0.2654409966911741, 0.11112801420666947, 0.02335236118318651, 0.09197638647561011, 0.14291286884457124, 0.1451032132270995, 0.20699627062758177, 0.2457945720520192, 0.2697803079278606, 0.32777374707038776, 0.07213588619960476, 0.17131586551362554, 0.2730687225710611, 0.18160978619837526, 0.26720924264834056, 0.36387330256483724, 0.3039070870333199, 0.3794476479688311, 0.46833551917311905, 0.5897712042866687, 0.5766905067891104, 0.5742395454190283, 0.4897256266965929, 0.4834267108443116, 0.49120208528228293, 0.3954070618080487, 0.39880183483727377, 0.42007768760593467, 0.5820452133244939, 0.5937558760649952, 0.6177486210919908, 0.4952378011643977, 0.5198170782391585, 0.5583462314925682, 0.4207504491157192, 0.46096082975878444, 0.5153007778639569, 0.6248674275943079, 0.660513852260895, 0.7071067811865476, 0.5623305152935061, 0.612690475559171, 0.6736134339144679, 0.5167384777286836, 0.5817559491741622, 0.655761182223948, 0.3056411182397324, 0.29242682534057124, 0.30453910698722936, 0.1966830703669012, 0.20043268187675103, 0.24076903778638667, 0.09800553710029278, 0.1419451169333437, 0.21896497554822353, 0.3156008733671404, 0.3508026451850969, 0.40462497600570135, 0.2459680976538116, 0.3083432984909667, 0.38483878783038744, 0.2185866492616742, 0.3046892033554635, 0.39663863915509, 0.4089863236613563, 0.4734656016394621, 0.5478898375127825, 0.38406998997978, 0.4663349894948123, 0.5548393276671432, 0.3924083695905168, 0.4857926894569947, 0.5825999321321756, 0.06867408775338373, 0.029165742960467967, 0.12112983272732696, 0.09280294511100945, 0.12056892277894679, 0.19821583608157542, 0.19634161490677404, 0.23210241269894308, 0.2982335572608308, 0.11519839587226917, 0.20756132907019625, 0.30329729099303576, 0.18305570349953051, 0.2731180346203889, 0.36880666869746564, 0.2837325358449252, 0.36362629337647584, 0.45306681840466073, 0.2941857943278232, 0.38901248272763145, 0.4863475260170634, 0.3550853149551886, 0.4515443384495376, 0.5508681400053477, 0.4385321691148051, 0.5312067518581577, 0.6283657364965545, 0.6708927883072947, 0.5856090342605805, 0.4973854725967934, 0.5566149847213939, 0.46611137738649394, 0.3723761154102935, 0.4635547728533773, 0.36861256500762307, 0.26932935500379623, 0.5304410548506111, 0.449016224778853, 0.3702974915582719, 0.40005671904467366, 0.3127787275713902, 0.2303375853390187, 0.2906730661303179, 0.19504623820251074, 0.10279017411452807, 0.40616347520441193, 0.3404791044952072, 0.2922031758792833, 0.26186842132496796, 0.2000305221971012, 0.1787820772762352, 0.1304599242802365, 0.0801220440286054, 0.13302079358879812, 0.5745338904872632, 0.48084274980266933, 0.38248373314133705, 0.5, 0.4061231319679243, 0.30985947963234245, 0.4626587957999624, 0.37696882015252553, 0.2965168341844228, 0.409722261554051, 0.31364084722864893, 0.21333705519879484, 0.32695019717143303, 0.2320020230769109, 0.13978733003629026, 0.3008284008884264, 0.22922744620269145, 0.1868921420786457, 0.24592080432999802, 0.15057073529699516, 0.06277823256699373, 0.1543846840611946, 0.07223497569035223, 0.08817732520676326, 0.17606108726710973, 0.17201823637812041, 0.22545006446262272, 0.5823424375541569, 0.4957716378949192, 0.4107687682657141, 0.5701998260936934, 0.4952576044834416, 0.42868065376796693, 0.5944643286713789, 0.5352672279842622, 0.4894315988844517, 0.42002576412949166, 0.3381952956250665, 0.265455819168706, 0.42607798101138317, 0.36787005615539764, 0.33070767724829847, 0.4789229738809256, 0.44491471390272447, 0.43400089260063174, 0.2684114134243493, 0.206816464332137, 0.18262235738325608, 0.3176558170143679, 0.3000856572637543, 0.31813975289631174, 0.41452420389015954, 0.4216171312387057, 0.4552719628009341, 0.5131247299551688, 0.45350592663468653, 0.3983681306486463, 0.3952201563736731, 0.3325730156497617, 0.2787685170760207, 0.2869656490263919, 0.21951465295221412, 0.168092272032998, 0.41778044190540387, 0.37657884178091444, 0.3511884943988761, 0.2936146026403146, 0.26169676399795433, 0.25877244449055686, 0.17816061740472583, 0.16657123849337901, 0.20337902536777921, 0.3684642907937161, 0.3627831516347659, 0.3807120491060136, 0.2686276930956612, 0.2932636469221834, 0.3452129717084976, 0.20409887374281027, 0.26741153183999317, 0.34923953979653205, 0.34577418330719956, 0.2629525508035739, 0.17918785243716823, 0.26088155502623134, 0.17205467656694873, 0.07984148668106161, 0.22386799595795118, 0.15197035493085315, 0.11276562176520952, 0.20172566560457802, 0.13277948280797092, 0.1026555381802186, 0.09248016323716515, 0.0, 0.09640448541999144, 0.10256431095195476, 0.12412966962498052, 0.1988298313940554, 0.11917259416996405, 0.1451867659773215, 0.21519012798368947, 0.07976876223702589, 0.17456708510712063, 0.2735250767070278, 0.17885747289668005, 0.2676765214381025, 0.3645453211855816, 0.3444677081051685, 0.2686541599589061, 0.20414630484704804, 0.3593884484015463, 0.3079268292682929, 0.27964737841775317, 0.41545363415003467, 0.3871538567117544, 0.38243161064591646, 0.19945177999662927, 0.15204149767593506, 0.15553557186983763, 0.2644638915899592, 0.2600855078412284, 0.2914253920688163, 0.3654666652414916, 0.38035957614920646, 0.42042229697410255, 0.1318252331139879, 0.17939561407932442, 0.2576178339590599, 0.267156491068081, 0.32099275434464386, 0.39497729461767217, 0.39787204542675, 0.4531284619887164, 0.5244751597597159, 0.48297441937587254, 0.46591144463723033, 0.45894470968338646, 0.38770641534580946, 0.37988320776338746, 0.38698354332778867, 0.30106878618511984, 0.3073417209705734, 0.33323017546577977, 0.4645198237240686, 0.47221323083436956, 0.49340907119586624, 0.3887282207903227, 0.41405660777610476, 0.45467688100295744, 0.332487478552174, 0.3782165142014664, 0.43790857337244354, 0.4982219477874771, 0.5316404263549205, 0.5775171986628393, 0.45604212523417426, 0.5084335938683991, 0.5719704112605863, 0.43733332105799394, 0.5062483912215944, 0.5836171069727909, 0.198959750639967, 0.1805136880618129, 0.1954224957135711, 0.08977987363140265, 0.10734104381590995, 0.17065410035504525, 0.03946223818564235, 0.12264928932686155, 0.20945393765765644, 0.2025407258985649, 0.24454792634734226, 0.3061311885811141, 0.1699061322277395, 0.2461215461203186, 0.33020584997357466, 0.20606797927455664, 0.29358834341061113, 0.3845865214115047, 0.3049830707071792, 0.37463679880414685, 0.45295870760045437, 0.32401015981721987, 0.40977326668564, 0.5, 0.3771532471620712, 0.4683073001959801, 0.5628171891754394, 0.11439967218264248, 0.1002407747371757, 0.1498330409373284, 0.1993939732626547, 0.21827593838444465, 0.2691075332140421, 0.30331903627967755, 0.3321072284425911, 0.382908455481084, 0.1319357617879479, 0.20734708451570033, 0.29275694925163886, 0.2532334750118048, 0.32052658644304166, 0.40007853556801665, 0.37027682397472056, 0.433411611020627, 0.5084513898137276, 0.2764519125860417, 0.3638761703709114, 0.4550939677193774, 0.38333354887095317, 0.46726569134377255, 0.556921090551239, 0.49332590788132485, 0.5734193804204396, 0.6602718957172833, 0.6875788881714434, 0.6018228027143381, 0.508299533971611, 0.567883798302244, 0.4792577989137559, 0.38372273338018903, 0.48183819759238977, 0.39417892331585225, 0.3022975015241071, 0.5489335829812999, 0.45801902683473317, 0.3604809572851689, 0.4141825863374978, 0.31984440644811757, 0.2190794457722323, 0.3215084674326757, 0.23107649429738117, 0.1430625863182764, 0.4088065962853938, 0.31536582589377016, 0.21879779795633528, 0.2569321549634561, 0.15806083504833895, 0.053901601016146154, 0.1617333706723555, 0.0865547894433238, 0.09778971167210927, 0.6432209788060229, 0.5590834213966277, 0.4703721849899226, 0.572761943460103, 0.49301854246075066, 0.4136151856073103, 0.546138231392865, 0.47798132223825823, 0.4170063832024438, 0.49719655463502005, 0.4100179404949697, 0.3199864262126783, 0.42744493924441684, 0.3516275942472901, 0.28459955540476206, 0.4188489714861939, 0.36662773800523674, 0.33450989018927946, 0.349337696062047, 0.26154584083328763, 0.17702123617083293, 0.29274643619897106, 0.23668013015986913, 0.2140717718690101, 0.3259154511954782, 0.31219350463485024, 0.3318473691142084, 0.6908430774931382, 0.6179278640284863, 0.5469862266851189, 0.6803801446394152, 0.6187349219118571, 0.5642433549896845, 0.7071067811865476, 0.6593141764387125, 0.6221665393107568, 0.5555309747354701, 0.4879704264816661, 0.42752740120896576, 0.5619225968976008, 0.5137536507857712, 0.47977859046529103, 0.6127480045396275, 0.5839272213448894, 0.571485998750271, 0.431656340812, 0.37805910686132854, 0.3418912931952033, 0.47013088695755023, 0.44709659211817826, 0.44616483243723715, 0.554915485572466, 0.5539156190453173, 0.572738812700444, 0.4532357208509983, 0.38663323718545406, 0.31573320673900857, 0.33125424413340726, 0.25926073811659067, 0.18428211957752397, 0.2297350154167957, 0.15179109019084033, 0.06886107944763935, 0.33994593359352887, 0.27562944846490117, 0.2173612409347226, 0.20199713310190967, 0.13851903737910579, 0.10642078218859986, 0.08035117023786893, 0.031358885017421546, 0.10583305802251228, 0.2443152696595459, 0.20389208166015682, 0.19642976713206822, 0.11852043266766263, 0.13532500284381335, 0.20084437861745547, 0.09196465923417493, 0.17908974155844537, 0.27410537234665494, 0.3611969274319902, 0.28589626380913374, 0.20624355952283036, 0.3003231717030088, 0.23426041357095795, 0.17813912031153714, 0.2970769616327568, 0.2564562410329985, 0.23955517706935692, 0.22276572550886586, 0.14367949290650106, 0.06739667981894898, 0.17775333124190562, 0.14060844409391865, 0.15317539228173233, 0.23035585256529686, 0.23860411324939468, 0.2795881011543902, 0.08155299244256838, 0.03293448065967395, 0.10716162543915085, 0.1322762540834935, 0.18152982819549987, 0.2587818758259223, 0.2594985745911843, 0.31842212402462317, 0.3946610719205411, 0.4385898860670862, 0.3828648992780789, 0.33696669262502243, 0.4646517505147218, 0.42868297082843476, 0.4083270746297368, 0.5254416816887014, 0.5069766821307197, 0.5048057076404886, 0.33127476815943246, 0.29530497770302566, 0.2821673796198178, 0.3952095035978872, 0.3878895989271602, 0.4026925788669935, 0.49008995261489063, 0.5, 0.528254682651006, 0.2661055375513139, 0.2717693255861776, 0.30649428984020394, 0.3816577239292831, 0.4110521503485062, 0.46030318685301336, 0.5074871707943768, 0.5468430788074886, 0.6016328022169082, 0.37640581015274693, 0.35143794987817034, 0.33468640162784197, 0.2899853326615569, 0.27782494841915867, 0.2816738395860363, 0.2194400253299818, 0.22871679698556704, 0.25934973508560877, 0.3388269296865068, 0.3369327291188727, 0.3508026451850972, 0.2819939786452647, 0.30614257576400467, 0.3479890751218311, 0.259444462891372, 0.3095155206534196, 0.37294890952146714, 0.35278745644599313, 0.3800572375868721, 0.4232947652204702, 0.345758533179579, 0.3990254971740754, 0.4646321545681964, 0.370323616697825, 0.4407214815109709, 0.5194215154188253, 0.09919015130531199, 0.06447749078066384, 0.0879666954039847, 0.017187447702006607, 0.07919646782355895, 0.15374776950469454, 0.1241278692112759, 0.18052201756628697, 0.25052822772660044, 0.08819177943533538, 0.14389969709952405, 0.21460347195029297, 0.14742969396515246, 0.22334357914483152, 0.3044056954329501, 0.2476690976733531, 0.32171201962620993, 0.40236309341809207, 0.20434542193736768, 0.2774261074485673, 0.35714754064330373, 0.2924701606899482, 0.3737610092877022, 0.45987522788777296, 0.39283060395383707, 0.47471992090220017, 0.5617800974848907, 0.21729153780123728, 0.2130570617040806, 0.2366206354846378, 0.30824885219617815, 0.3248291190450967, 0.3610605885151248, 0.4102325901397815, 0.43643127609544347, 0.47801107561742473, 0.22012306098090872, 0.26213756257063797, 0.3217080978230181, 0.3472511873908333, 0.3951520614844614, 0.45644424645981924, 0.46793114577170897, 0.5182717342935096, 0.580050383891336, 0.3018077865334019, 0.3685870856059683, 0.44401115075207126, 0.43872672226867454, 0.5058162102865993, 0.58137727913309, 0.565248498681096, 0.6320994472010821, 0.7071067811865476]\n"
     ]
    }
   ],
   "source": [
    "dist = [];\n",
    "for point in safepoints:\n",
    "    p = np.array(point);\n",
    "    dist.append(np.sqrt(np.dot(p-safe,p-safe)));\n",
    "    \n",
    "print(dist);"
   ]
  },
  {
   "cell_type": "code",
   "execution_count": 66,
   "id": "36f00245",
   "metadata": {},
   "outputs": [
    {
     "name": "stdout",
     "output_type": "stream",
     "text": [
      "0.7071067811865476\n"
     ]
    }
   ],
   "source": [
    "print(max(dist));"
   ]
  },
  {
   "cell_type": "markdown",
   "id": "da2e3427",
   "metadata": {},
   "source": [
    "# CONSTANT IMPRECISION SIMULATION"
   ]
  },
  {
   "cell_type": "code",
   "execution_count": 75,
   "id": "4494f0c0",
   "metadata": {},
   "outputs": [
    {
     "data": {
      "image/png": "[encoded data removed]",
      "text/plain": [
       "<Figure size 640x480 with 1 Axes>"
      ]
     },
     "metadata": {},
     "output_type": "display_data"
    }
   ],
   "source": [
    "plt.ion();\n",
    "fig, ax = plt.subplots()\n",
    "#X = np.array([(-3,-1), (-2, 3),(0.5 ,-4),(1.5,6),(3.2,2),(4,-1)]);\n",
    "offset = np.ones((6,2))*.5;\n",
    "X= 12*(np.random.rand(6,2)-offset)\n",
    "Xsave = X;\n",
    "Xn = np.zeros((6,6,2));\n",
    "Xn[:]= X;\n",
    "n = len(X);\n",
    "imp = .25;\n",
    "colors= ['k','g','c','m','y','r'];\n",
    "empty = False;\n",
    "frames = [];\n",
    "step = 0;\n",
    "emptyCPIH = np.zeros((n,1));\n",
    "target = np.zeros((n,2));\n",
    "targetlast = np.zeros((n,2));\n",
    "targetdist=np.zeros((n,1));\n",
    "ims = [];\n",
    "lastCPIH = [[],[],[],[],[]];\n",
    "temp = [];\n",
    "while not empty:\n",
    "    im = [];\n",
    "    #ax.cla();\n",
    "    ax.set_xlim(-7,7);\n",
    "    ax.set_ylim(-7,7);\n",
    "    dt = .01;\n",
    "    n = len(X);\n",
    "    \n",
    "    safeX= [];\n",
    "    safeY=[];\n",
    "    dist = 0;\n",
    "    for i in range(n):\n",
    "        Xn[i] = X+2*.25*(np.random.rand(6,2)-.5);\n",
    "        Xn[i][i]  = X[i];\n",
    "        if i!= n-1:\n",
    "            Bx = getPotRegions(Xn[i],imp);\n",
    "\n",
    "        #if i != n-1 and emptyCPIH[i] == 0:\n",
    "        if i != n-1:\n",
    "            safeX,safeY = CPIH_Safepoint(n,Bx);\n",
    "            #CPIH = CPIH_Safepoint(n,Bx);\n",
    "            #safeX,safeY = optConfig(Xn[i],i,imp);\n",
    "            if (isinstance(safeX,int) and isinstance(safeY,int)):\n",
    "                #print('CPIH empty');\n",
    "                #empty = True;\n",
    "                emptyCPIH[i] = 1;\n",
    "                target[i] = targetlast[i]\n",
    "            else:\n",
    "                targetlast[i] = [np.mean(safeX),np.mean(safeY)]; \n",
    "                target[i],targetdist[i] = maxDist(X[i],safeX,safeY);\n",
    "                lastCPIH[i] = [safeX,safeY];\n",
    "               # emptyCPIH[i] =1;\n",
    "            \n",
    "        elif i== n-1:\n",
    "            target[i] = np.array([(6,6)])\n",
    "        \n",
    "    for i in range(n):\n",
    "        X[i]= X[i]+dt*(target[i]-X[i])/(np.linalg.norm(X[i]-target[i]))*max((np.linalg.norm(X[i]-target[i])),1);\n",
    "        if i<n-1:\n",
    "            dist += np.sqrt(np.dot((target[i]-X[i]),(target[i]-X[i])));\n",
    "        #X[i]= X[i]+dt*(target[i]);\n",
    "    if dist< (n-1)*imp*.5 or not any(emptyCPIH[0:4] == 0):\n",
    "        empty = True;\n",
    "    artist = ax.fill(safeX,safeY,'b',alpha = 0.3);\n",
    "    \n",
    "    for j in range(n):\n",
    "            x = Bx[j,:,0];\n",
    "            y = Bx[j,:,1];\n",
    "            #ax.scatter(x,y)\n",
    "            artist.append(ax.scatter(x,y,c= colors[j]));\n",
    "            if emptyCPIH[j] == 1:\n",
    "                artist.append(ax.scatter(target[j][0],target[j][1], c = colors[j],marker = 'x'))\n",
    "    frames.append(artist);\n",
    "    clear_output(wait = True);\n",
    "   # fig.canvas.draw()\n",
    "    #fig.canvas.flush_events();\n",
    "    #display(fig);\n",
    "    \n",
    "    plt.pause(0.1)\n",
    "    step +=1;\n",
    "    \n",
    "#ax.scatter(minimalhull[0],minimalhull[1]);\n",
    "\n",
    "\n",
    "ani = animation.ArtistAnimation(fig= fig,artists = frames,interval = 50, blit = True);\n",
    "ani.save('CPIH_rand_pos_t2.gif');\n",
    "display(fig);"
   ]
  },
  {
   "cell_type": "code",
   "execution_count": 79,
   "id": "a9f91bbe",
   "metadata": {},
   "outputs": [
    {
     "name": "stdout",
     "output_type": "stream",
     "text": [
      "-0.399548758969051\n",
      "-1.0603007228541987\n",
      "-0.4304018816646789\n",
      "-0.38467428269937715\n",
      "-0.40188938947915154\n"
     ]
    },
    {
     "data": {
      "image/png": "[encoded data removed]",
      "text/plain": [
       "<Figure size 640x480 with 1 Axes>"
      ]
     },
     "metadata": {},
     "output_type": "display_data"
    }
   ],
   "source": [
    "print(np.mean(lastCPIH[0][0]))\n",
    "print(np.mean(lastCPIH[0][1]))\n",
    "print(np.mean(lastCPIH[2][0]))\n",
    "print(np.mean(lastCPIH[3][0]))\n",
    "print(np.mean(lastCPIH[4][0]))\n",
    "fig, ax = plt.subplots();\n",
    "ax.cla();\n",
    "ax.set_xlim(-4,4);\n",
    "ax.set_ylim(-3,4);\n",
    "for i in range(5):\n",
    "    x = lastCPIH[i][0];\n",
    "    y = lastCPIH[i][1];\n",
    "    ax.fill(x,y)\n",
    "    xn = X[i][0];\n",
    "    yn = X[i][1];\n",
    "    ax.scatter(xn,yn);\n",
    "    \n",
    "    \n"
   ]
  },
  {
   "cell_type": "code",
   "execution_count": 77,
   "id": "648556c6",
   "metadata": {},
   "outputs": [
    {
     "name": "stdout",
     "output_type": "stream",
     "text": [
      "avg dist= 0.18677700201643507\n",
      "max dist =  0.3738157153609584\n"
     ]
    }
   ],
   "source": [
    "avgdist = 0;\n",
    "maxdist = 0;\n",
    "\n",
    "for i in range(n-2):\n",
    "    for j in range(i+1,n-1):\n",
    "        dij = np.sqrt(np.dot((target[j]-target[i]),(target[j]-target[i])));\n",
    "        avgdist += dij;\n",
    "        maxdist = max(dij,maxdist);\n",
    "        \n",
    "avgdist = avgdist/10;\n",
    "\n",
    "print('avg dist=',(avgdist));\n",
    "print('max dist = ',(maxdist));"
   ]
  },
  {
   "cell_type": "code",
   "execution_count": 78,
   "id": "ae0362ba",
   "metadata": {},
   "outputs": [
    {
     "name": "stdout",
     "output_type": "stream",
     "text": [
      "[[-0.60950122  0.13841629]\n",
      " [-1.09348046 -1.25196449]\n",
      " [-0.17616328 -1.19920108]\n",
      " [-1.47875527 -1.59056354]\n",
      " [ 1.16821583 -2.38663421]\n",
      " [ 4.89988826  5.53326474]]\n"
     ]
    }
   ],
   "source": [
    "print(Xsave)"
   ]
  },
  {
   "cell_type": "markdown",
   "id": "faf58386",
   "metadata": {},
   "source": [
    "# VARIABLE IMPRECISION SIMULATION"
   ]
  },
  {
   "cell_type": "code",
   "execution_count": 32,
   "id": "a72f74fb",
   "metadata": {},
   "outputs": [
    {
     "data": {
      "image/png": "[encoded data removed]",
      "text/plain": [
       "<Figure size 640x480 with 1 Axes>"
      ]
     },
     "metadata": {},
     "output_type": "display_data"
    }
   ],
   "source": [
    "plt.ion();\n",
    "fig, ax = plt.subplots()\n",
    "X = np.array([(-3,-1), (-2, 3),(0.5 ,-4),(1.5,6),(3.2,2),(4,-1)]);\n",
    "Xn = np.zeros((6,6,2));\n",
    "Xn[:]= X;\n",
    "n = len(X);\n",
    "imp = .5*np.ones((6,6))-.5*np.eye(6);\n",
    "colors= ['k','g','c','m','y','r'];\n",
    "empty = False;\n",
    "\n",
    "frames = [];\n",
    "step = 0;\n",
    "emptyCPIH = np.zeros((6,1));\n",
    "hist = [];\n",
    "for i in range(5):\n",
    "    hist.append([]);\n",
    "B2hist = []\n",
    "target = np.zeros((n,2));\n",
    "targetdist=np.zeros((n,1));\n",
    "ims = [];\n",
    "while not empty:\n",
    "    im = [];\n",
    "    #ax.cla();\n",
    "    ax.set_xlim(-7,7);\n",
    "    ax.set_ylim(-7,7);\n",
    "    dt = .01;\n",
    "    n = len(X);\n",
    "    \n",
    "    safeX= [];\n",
    "    safeY=[];\n",
    "    dist = 0;\n",
    "    for i in range(n):\n",
    "        for j in range(n):\n",
    "                imp[i][j] = np.linalg.norm(X[i]-X[j])/15;\n",
    "                Xn[i][j] = X[j]+2*imp[i][j]*(np.random.rand(1,2)-.5);\n",
    "        Xn[i][i]  = X[i];\n",
    "        if i!= n-1:\n",
    "            Bx = getPotRegions_var(Xn[i],imp[i][:]);\n",
    "\n",
    "        #if i != n-1 and emptyCPIH[i] == 0:\n",
    "        if i != n-1:\n",
    "            safeX,safeY = CPIH_Safepoint(n,Bx);\n",
    "            #CPIH = CPIH_Safepoint(n,Bx);\n",
    "            #safeX,safeY = optConfig(Xn[i],i,imp);\n",
    "            if (isinstance(safeX,int) and isinstance(safeY,int)):\n",
    "                #print('CPIH empty');\n",
    "                #empty = True;\n",
    "                hist[i].append(-step);\n",
    "                emptyCPIH[i] = 1;\n",
    "                if i == 2:\n",
    "                    B2hist.append(Bx);\n",
    "                target[i]= X[i];\n",
    "            else:\n",
    "                #target[i] = [np.mean(safeX),np.mean(safeY)];\n",
    "                target[i],targetdist[i] = maxDist(X[i],safeX,safeY);\n",
    "                if emptyCPIH[i]:\n",
    "                    hist[i].append(step);\n",
    "                    emptyCPIH[i] = 0;\n",
    "                    \n",
    "               # emptyCPIH[i] =1;\n",
    "            \n",
    "        elif i== n-1:\n",
    "            target[i] = np.array([(6,6)])\n",
    "        \n",
    "    for i in range(n-1):\n",
    "        X[i]= X[i]+dt*targetdist[i]*(target[i]-X[i]);\n",
    "        dist += np.sqrt(np.dot((target[i]-X[i]),(target[i]-X[i])));\n",
    "        #X[i]= X[i]+dt*(target[i]);\n",
    "    if step>499 or any(emptyCPIH == 1):\n",
    "        empty = True;\n",
    "    artist = ax.fill(safeX,safeY,'b',alpha = 0.3);\n",
    "    \n",
    "    for j in range(n):\n",
    "            x = Bx[j,:,0];\n",
    "            y = Bx[j,:,1];\n",
    "            #ax.scatter(x,y)\n",
    "            artist.append(ax.scatter(x,y,c= colors[j]));\n",
    "            if emptyCPIH[j] == 1:\n",
    "                artist.append(ax.scatter(target[j][0],target[j][1], c = colors[j],marker = 'x'))\n",
    "    frames.append(artist);\n",
    "    clear_output(wait = True);\n",
    "   # fig.canvas.draw()\n",
    "    #fig.canvas.flush_events();\n",
    "    #display(fig);\n",
    "    \n",
    "    plt.pause(0.1)\n",
    "    step +=1;\n",
    "    \n",
    "#ax.scatter(minimalhull[0],minimalhull[1]);\n",
    "\n",
    "\n",
    "ani = animation.ArtistAnimation(fig= fig,artists = frames,interval = 50, blit = True);\n",
    "ani.save('CPIH.gif');\n",
    "display(fig);"
   ]
  },
  {
   "cell_type": "markdown",
   "id": "e4bcc14a",
   "metadata": {},
   "source": [
    "# Live Simulation"
   ]
  },
  {
   "cell_type": "code",
   "execution_count": 13,
   "id": "2fdc0fe2",
   "metadata": {},
   "outputs": [
    {
     "data": {
      "image/png": "[encoded data removed]",
      "text/plain": [
       "<Figure size 640x480 with 1 Axes>"
      ]
     },
     "metadata": {},
     "output_type": "display_data"
    }
   ],
   "source": [
    "plt.ion();\n",
    "fig, ax = plt.subplots();\n",
    "X = np.array([(-3,-1), (-2, 3),(0.5 ,-4),(1.5,6),(3.2,2),(4,-1)]);\n",
    "Xn = np.zeros((6,6,2));\n",
    "Xn[:]= X;\n",
    "imp = .5*np.ones((6,6))-.5*np.eye(6);\n",
    "\n",
    "#plt.ion();\n",
    "plot1 = [];\n",
    "plot2 = [];\n",
    "\n",
    "for t in range(200):\n",
    "    ax.cla();\n",
    "    ax.set_xlim(-7,7);\n",
    "    ax.set_ylim(-7,7);\n",
    "    dx = .01;\n",
    "    n = len(X);\n",
    "    target = np.zeros((n,2));\n",
    "    for i in range(n):\n",
    "        if i != n-1:\n",
    "            for j in range(n):\n",
    "                imp[i][j] = np.linalg.norm(X[i]-X[j])/10;\n",
    "            #Xn[i] = X+2*imp*(np.random.rand(6,2)-.5);\n",
    "            Bx = getPotRegions_var(X,imp[i][:]);\n",
    "            safeX,safeY = CPIH_Safepoint(n,Bx);\n",
    "            target[i] = [np.mean(safeX),np.mean(safeY)]; \n",
    "            \n",
    "        else:\n",
    "            target[i] = np.array([(6,6)])\n",
    "        \n",
    "    for i in range(n):\n",
    "        X[i]= X[i]+dx*(target[i]-X[i]);\n",
    "        \n",
    "\n",
    "    #ax,plot1,plot2 = plotagents(fig,Bx,safeX,safeY,ax,t,plot1,plot2);\n",
    "    \n",
    "   # for i in range(len(safeX)):\n",
    "    #        x = safeX[i][:];\n",
    "     #       y = safeY[i][:];\n",
    "      #      ax.fill(x,y);\n",
    "    for j in range(n):\n",
    "            x = Bx[j,:,0];\n",
    "            y = Bx[j,:,1];\n",
    "            ax.scatter(x,y);\n",
    "    fig.canvas.draw()\n",
    "    fig.canvas.flush_events();\n",
    "    display(fig);\n",
    "    clear_output(wait = True);\n",
    "    plt.pause(0.1)\n",
    "\n",
    "    "
   ]
  },
  {
   "cell_type": "code",
   "execution_count": 13,
   "id": "f7486daa",
   "metadata": {},
   "outputs": [
    {
     "name": "stdout",
     "output_type": "stream",
     "text": [
      "[[], [3, 4], [], [], []]\n"
     ]
    }
   ],
   "source": [
    "hist = [];\n",
    "for i in range(5):\n",
    "    hist.append([]);\n",
    "hist[1].append(3);\n",
    "hist[1].append(4);\n",
    "print(hist)\n",
    "    "
   ]
  },
  {
   "cell_type": "code",
   "execution_count": 24,
   "id": "1e3b740d",
   "metadata": {},
   "outputs": [
    {
     "name": "stdout",
     "output_type": "stream",
     "text": [
      "[[0.]\n",
      " [0.]\n",
      " [0.]\n",
      " [0.]\n",
      " [0.]\n",
      " [0.]]\n"
     ]
    }
   ],
   "source": [
    "print(emptyCPIH)"
   ]
  },
  {
   "cell_type": "code",
   "execution_count": 36,
   "id": "6b907f24",
   "metadata": {},
   "outputs": [
    {
     "name": "stdout",
     "output_type": "stream",
     "text": [
      "[]\n"
     ]
    }
   ],
   "source": [
    "print(hist[4][:])"
   ]
  },
  {
   "cell_type": "code",
   "execution_count": 14,
   "id": "4f69e8f2",
   "metadata": {},
   "outputs": [
    {
     "ename": "IndexError",
     "evalue": "list index out of range",
     "output_type": "error",
     "traceback": [
      "\u001b[1;31m---------------------------------------------------------------------------\u001b[0m",
      "\u001b[1;31mIndexError\u001b[0m                                Traceback (most recent call last)",
      "Cell \u001b[1;32mIn[14], line 1\u001b[0m\n\u001b[1;32m----> 1\u001b[0m \u001b[38;5;28mprint\u001b[39m(B2hist[\u001b[38;5;241m0\u001b[39m][:])\n",
      "\u001b[1;31mIndexError\u001b[0m: list index out of range"
     ]
    }
   ],
   "source": [
    "print(B2hist[0][:])"
   ]
  },
  {
   "cell_type": "code",
   "execution_count": 15,
   "id": "c8c15107",
   "metadata": {},
   "outputs": [
    {
     "ename": "IndexError",
     "evalue": "list index out of range",
     "output_type": "error",
     "traceback": [
      "\u001b[1;31m---------------------------------------------------------------------------\u001b[0m",
      "\u001b[1;31mIndexError\u001b[0m                                Traceback (most recent call last)",
      "Cell \u001b[1;32mIn[15], line 5\u001b[0m\n\u001b[0;32m      3\u001b[0m ax\u001b[38;5;241m.\u001b[39mset_xlim(\u001b[38;5;241m-\u001b[39m\u001b[38;5;241m7\u001b[39m,\u001b[38;5;241m7\u001b[39m);\n\u001b[0;32m      4\u001b[0m ax\u001b[38;5;241m.\u001b[39mset_ylim(\u001b[38;5;241m-\u001b[39m\u001b[38;5;241m7\u001b[39m,\u001b[38;5;241m7\u001b[39m);\n\u001b[1;32m----> 5\u001b[0m \u001b[38;5;28;01mfor\u001b[39;00m i \u001b[38;5;129;01min\u001b[39;00m \u001b[38;5;28mrange\u001b[39m(\u001b[38;5;28mlen\u001b[39m(B2hist[\u001b[38;5;241m0\u001b[39m][:])):\n\u001b[0;32m      6\u001b[0m     x \u001b[38;5;241m=\u001b[39m B2hist[\u001b[38;5;241m0\u001b[39m][i][:,\u001b[38;5;241m0\u001b[39m];\n\u001b[0;32m      7\u001b[0m     y \u001b[38;5;241m=\u001b[39m B2hist[\u001b[38;5;241m0\u001b[39m][i][:,\u001b[38;5;241m1\u001b[39m];\n",
      "\u001b[1;31mIndexError\u001b[0m: list index out of range"
     ]
    },
    {
     "data": {
      "image/png": "[encoded data removed]",
      "text/plain": [
       "<Figure size 640x480 with 1 Axes>"
      ]
     },
     "metadata": {},
     "output_type": "display_data"
    }
   ],
   "source": [
    "fig, ax = plt.subplots();\n",
    "ax.cla();\n",
    "ax.set_xlim(-7,7);\n",
    "ax.set_ylim(-7,7);\n",
    "for i in range(len(B2hist[0][:])):\n",
    "    x = B2hist[0][i][:,0];\n",
    "    y = B2hist[0][i][:,1];\n",
    "    ax.scatter(x,y)\n",
    "sx,sy = CPIH_Safepoint(n,B2hist[0][:]);\n",
    "ax.fill(sx,sy)\n",
    "#       y = safeY[i][:];\n",
    "      #      ax.fill(x,y);"
   ]
  },
  {
   "cell_type": "code",
   "execution_count": 30,
   "id": "35bf9372",
   "metadata": {},
   "outputs": [],
   "source": [
    "sx,sy = CPIH_Safepoint(n,B2hist[0][:]);"
   ]
  },
  {
   "cell_type": "code",
   "execution_count": 30,
   "id": "5565e07d",
   "metadata": {},
   "outputs": [
    {
     "name": "stdout",
     "output_type": "stream",
     "text": [
      "0.2690806449515544\n"
     ]
    }
   ],
   "source": [
    "print(dist/5)"
   ]
  },
  {
   "cell_type": "code",
   "execution_count": 31,
   "id": "527a13d8",
   "metadata": {},
   "outputs": [
    {
     "name": "stdout",
     "output_type": "stream",
     "text": [
      "501\n"
     ]
    }
   ],
   "source": [
    "print(step)"
   ]
  },
  {
   "cell_type": "code",
   "execution_count": null,
   "id": "9175dd82",
   "metadata": {},
   "outputs": [],
   "source": []
  }
 ],
 "metadata": {
  "kernelspec": {
   "display_name": "Python 3 (ipykernel)",
   "language": "python",
   "name": "python3"
  },
  "language_info": {
   "codemirror_mode": {
    "name": "ipython",
    "version": 3
   },
   "file_extension": ".py",
   "mimetype": "text/x-python",
   "name": "python",
   "nbconvert_exporter": "python",
   "pygments_lexer": "ipython3",
   "version": "3.11.5"
  }
 },
 "nbformat": 4,
 "nbformat_minor": 5
}
